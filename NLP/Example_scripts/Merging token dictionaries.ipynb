{
 "cells": [
  {
   "cell_type": "code",
   "execution_count": 1,
   "metadata": {},
   "outputs": [],
   "source": [
    "import nltk\n",
    "import numpy as np\n",
    "import re\n",
    "import gensim\n",
    "from nltk.tokenize import word_tokenize, sent_tokenize"
   ]
  },
  {
   "cell_type": "code",
   "execution_count": 2,
   "metadata": {},
   "outputs": [],
   "source": [
    "# Open the txt file, read contents, tokenize each sentence, store each token in an array\n",
    "sent_token_array = []\n",
    "with open('../Articles/article-1.txt', 'r') as f:\n",
    "    sent_tokens = sent_tokenize(f.read())\n",
    "    for line in sent_tokens:\n",
    "        new_sent = re.sub(r'\\.$|[?!]','\\n', line)\n",
    "        new_sent = re.sub(r',','', new_sent)\n",
    "        sent_token_array.append(new_sent)\n",
    "        \n",
    "# Convert the sentence tokens into lowercase word tokens\n",
    "word_tokens = [[w.lower() for w in word_tokenize(text)] for text in sent_token_array]\n",
    "#word_tokens"
   ]
  },
  {
   "cell_type": "code",
   "execution_count": 3,
   "metadata": {},
   "outputs": [
    {
     "data": {
      "text/plain": [
       "{'are': 0,\n",
       " 'best': 1,\n",
       " 'food': 2,\n",
       " 'forms': 3,\n",
       " 'of': 4,\n",
       " 'some': 5,\n",
       " 'tacos': 6,\n",
       " 'the': 7,\n",
       " 'a': 8,\n",
       " 'in': 9,\n",
       " 'it': 10,\n",
       " 'meat': 11,\n",
       " 'on': 12,\n",
       " 'simple': 13,\n",
       " 'they': 14,\n",
       " 'toppings': 15,\n",
       " 'tortilla': 16,\n",
       " 'with': 17,\n",
       " 'wrapped': 18,\n",
       " 'because': 19,\n",
       " 'comes': 20,\n",
       " 'cooks': 21,\n",
       " 'doing': 22,\n",
       " 'down': 23,\n",
       " 'forces': 24,\n",
       " 'frills': 25,\n",
       " 'fundamentals': 26,\n",
       " 'is': 27,\n",
       " 'know': 28,\n",
       " 'me': 29,\n",
       " 'no': 30,\n",
       " 'really': 31,\n",
       " 'taco': 32,\n",
       " 'to': 33,\n",
       " 'what': 34,\n",
       " \"'s\": 35,\n",
       " 'ability': 36,\n",
       " 'choose': 37,\n",
       " 'cook': 38,\n",
       " 'counts': 39,\n",
       " 'every': 40,\n",
       " 'little': 41,\n",
       " 'one': 42,\n",
       " 'thing': 43,\n",
       " 'which': 44}"
      ]
     },
     "execution_count": 3,
     "metadata": {},
     "output_type": "execute_result"
    }
   ],
   "source": [
    "# Create Dictionary of unique ID's for each word\n",
    "dictionary = gensim.corpora.Dictionary(word_tokens)\n",
    "dictionary.token2id"
   ]
  },
  {
   "cell_type": "code",
   "execution_count": 4,
   "metadata": {},
   "outputs": [],
   "source": [
    "# Tokenize a second document\n",
    "sent_token_array_2 = []\n",
    "with open('../Articles/article-2.txt', 'r') as f:\n",
    "    sent_tokens = sent_tokenize(f.read())\n",
    "    for line in sent_tokens:\n",
    "        new_sent = re.sub(r'\\.$|[?!]','\\n', line)\n",
    "        new_sent = re.sub(r',','', new_sent)\n",
    "        sent_token_array_2.append(new_sent)\n",
    "#print(sent_token_array_2)\n",
    "\n",
    "# Convert sentence tokens into word tokens\n",
    "word_tokens = [[w.lower() for w in word_tokenize(text)] for text in sent_token_array_2]\n",
    "#print(word_tokens)\n",
    "\n"
   ]
  },
  {
   "cell_type": "code",
   "execution_count": 5,
   "metadata": {},
   "outputs": [
    {
     "data": {
      "text/plain": [
       "{'combination': 0,\n",
       " 'i': 1,\n",
       " 'ingredients': 2,\n",
       " 'love': 3,\n",
       " 'of': 4,\n",
       " 'the': 5,\n",
       " 'added': 6,\n",
       " 'die': 7,\n",
       " 'factor': 8,\n",
       " 'for': 9,\n",
       " 'is': 10,\n",
       " 'salsa': 11,\n",
       " 'taste': 12,\n",
       " 'to': 13,\n",
       " 'with': 14,\n",
       " 'are': 15,\n",
       " 'easy': 16,\n",
       " 'make': 17,\n",
       " 'super': 18,\n",
       " 'tacos': 19,\n",
       " 'food': 20,\n",
       " 'tier': 21,\n",
       " 'top': 22}"
      ]
     },
     "execution_count": 5,
     "metadata": {},
     "output_type": "execute_result"
    }
   ],
   "source": [
    "# Create unique ID dictionary for the second set of tokens\n",
    "dictionary_2 = gensim.corpora.Dictionary(word_tokens)\n",
    "dictionary_2.token2id"
   ]
  },
  {
   "cell_type": "code",
   "execution_count": 6,
   "metadata": {},
   "outputs": [
    {
     "data": {
      "text/plain": [
       "{'are': 0,\n",
       " 'best': 1,\n",
       " 'food': 2,\n",
       " 'forms': 3,\n",
       " 'of': 4,\n",
       " 'some': 5,\n",
       " 'tacos': 6,\n",
       " 'the': 7,\n",
       " 'a': 8,\n",
       " 'in': 9,\n",
       " 'it': 10,\n",
       " 'meat': 11,\n",
       " 'on': 12,\n",
       " 'simple': 13,\n",
       " 'they': 14,\n",
       " 'toppings': 15,\n",
       " 'tortilla': 16,\n",
       " 'with': 17,\n",
       " 'wrapped': 18,\n",
       " 'because': 19,\n",
       " 'comes': 20,\n",
       " 'cooks': 21,\n",
       " 'doing': 22,\n",
       " 'down': 23,\n",
       " 'forces': 24,\n",
       " 'frills': 25,\n",
       " 'fundamentals': 26,\n",
       " 'is': 27,\n",
       " 'know': 28,\n",
       " 'me': 29,\n",
       " 'no': 30,\n",
       " 'really': 31,\n",
       " 'taco': 32,\n",
       " 'to': 33,\n",
       " 'what': 34,\n",
       " \"'s\": 35,\n",
       " 'ability': 36,\n",
       " 'choose': 37,\n",
       " 'cook': 38,\n",
       " 'counts': 39,\n",
       " 'every': 40,\n",
       " 'little': 41,\n",
       " 'one': 42,\n",
       " 'thing': 43,\n",
       " 'which': 44,\n",
       " 'combination': 45,\n",
       " 'i': 46,\n",
       " 'ingredients': 47,\n",
       " 'love': 48,\n",
       " 'added': 49,\n",
       " 'die': 50,\n",
       " 'factor': 51,\n",
       " 'for': 52,\n",
       " 'salsa': 53,\n",
       " 'taste': 54,\n",
       " 'easy': 55,\n",
       " 'make': 56,\n",
       " 'super': 57,\n",
       " 'tier': 58,\n",
       " 'top': 59}"
      ]
     },
     "execution_count": 6,
     "metadata": {},
     "output_type": "execute_result"
    }
   ],
   "source": [
    "# Merge the dictionaries\n",
    "dictionary.merge_with(dictionary_2)\n",
    "dictionary.token2id"
   ]
  },
  {
   "cell_type": "code",
   "execution_count": null,
   "metadata": {},
   "outputs": [],
   "source": []
  }
 ],
 "metadata": {
  "kernelspec": {
   "display_name": "Python 3",
   "language": "python",
   "name": "python3"
  },
  "language_info": {
   "codemirror_mode": {
    "name": "ipython",
    "version": 3
   },
   "file_extension": ".py",
   "mimetype": "text/x-python",
   "name": "python",
   "nbconvert_exporter": "python",
   "pygments_lexer": "ipython3",
   "version": "3.7.7"
  }
 },
 "nbformat": 4,
 "nbformat_minor": 4
}
