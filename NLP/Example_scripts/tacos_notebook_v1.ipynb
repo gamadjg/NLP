{
 "cells": [
  {
   "cell_type": "code",
   "execution_count": 1,
   "metadata": {},
   "outputs": [],
   "source": [
    "import nltk\n",
    "import numpy as np\n",
    "import re\n",
    "import gensim\n",
    "from nltk.tokenize import word_tokenize, sent_tokenize"
   ]
  },
  {
   "cell_type": "code",
   "execution_count": 2,
   "metadata": {},
   "outputs": [],
   "source": [
    "# Open the txt file, read contents, tokenize each sentence, store each token in an array\n",
    "sent_token_array = []\n",
    "with open('../Articles/article-1.txt', 'r') as f:\n",
    "    sent_tokens = sent_tokenize(f.read())\n",
    "    for line in sent_tokens:\n",
    "        new_sent = re.sub(r'\\.$|[?!]','\\n', line)\n",
    "        new_sent = re.sub(r',','', new_sent)\n",
    "        sent_token_array.append(new_sent)"
   ]
  },
  {
   "cell_type": "code",
   "execution_count": 3,
   "metadata": {},
   "outputs": [
    {
     "data": {
      "text/plain": [
       "['Tacos are some of the best forms of food\\n',\n",
       " 'They are simple meat wrapped in a tortilla with some toppings on it\\n',\n",
       " 'To me it comes down to fundamentals because the taco is simple it forces cooks to really know what they are doing with no frills\\n',\n",
       " \"One's ability to cook the tortilla the meat which toppings to choose every little thing counts\\n\"]"
      ]
     },
     "execution_count": 3,
     "metadata": {},
     "output_type": "execute_result"
    }
   ],
   "source": [
    "sent_token_array"
   ]
  },
  {
   "cell_type": "code",
   "execution_count": 6,
   "metadata": {},
   "outputs": [
    {
     "data": {
      "text/plain": [
       "[['tacos', 'are', 'some', 'of', 'the', 'best', 'forms', 'of', 'food'],\n",
       " ['they',\n",
       "  'are',\n",
       "  'simple',\n",
       "  'meat',\n",
       "  'wrapped',\n",
       "  'in',\n",
       "  'a',\n",
       "  'tortilla',\n",
       "  'with',\n",
       "  'some',\n",
       "  'toppings',\n",
       "  'on',\n",
       "  'it'],\n",
       " ['to',\n",
       "  'me',\n",
       "  'it',\n",
       "  'comes',\n",
       "  'down',\n",
       "  'to',\n",
       "  'fundamentals',\n",
       "  'because',\n",
       "  'the',\n",
       "  'taco',\n",
       "  'is',\n",
       "  'simple',\n",
       "  'it',\n",
       "  'forces',\n",
       "  'cooks',\n",
       "  'to',\n",
       "  'really',\n",
       "  'know',\n",
       "  'what',\n",
       "  'they',\n",
       "  'are',\n",
       "  'doing',\n",
       "  'with',\n",
       "  'no',\n",
       "  'frills'],\n",
       " ['one',\n",
       "  \"'s\",\n",
       "  'ability',\n",
       "  'to',\n",
       "  'cook',\n",
       "  'the',\n",
       "  'tortilla',\n",
       "  'the',\n",
       "  'meat',\n",
       "  'which',\n",
       "  'toppings',\n",
       "  'to',\n",
       "  'choose',\n",
       "  'every',\n",
       "  'little',\n",
       "  'thing',\n",
       "  'counts']]"
      ]
     },
     "execution_count": 6,
     "metadata": {},
     "output_type": "execute_result"
    }
   ],
   "source": [
    "# Convert the sentence tokens into lowercase word tokens\n",
    "word_tokens = [[w.lower() for w in word_tokenize(text)] for text in sent_token_array]\n",
    "word_tokens"
   ]
  },
  {
   "cell_type": "code",
   "execution_count": 7,
   "metadata": {},
   "outputs": [
    {
     "data": {
      "text/plain": [
       "{'are': 0,\n",
       " 'best': 1,\n",
       " 'food': 2,\n",
       " 'forms': 3,\n",
       " 'of': 4,\n",
       " 'some': 5,\n",
       " 'tacos': 6,\n",
       " 'the': 7,\n",
       " 'a': 8,\n",
       " 'in': 9,\n",
       " 'it': 10,\n",
       " 'meat': 11,\n",
       " 'on': 12,\n",
       " 'simple': 13,\n",
       " 'they': 14,\n",
       " 'toppings': 15,\n",
       " 'tortilla': 16,\n",
       " 'with': 17,\n",
       " 'wrapped': 18,\n",
       " 'because': 19,\n",
       " 'comes': 20,\n",
       " 'cooks': 21,\n",
       " 'doing': 22,\n",
       " 'down': 23,\n",
       " 'forces': 24,\n",
       " 'frills': 25,\n",
       " 'fundamentals': 26,\n",
       " 'is': 27,\n",
       " 'know': 28,\n",
       " 'me': 29,\n",
       " 'no': 30,\n",
       " 'really': 31,\n",
       " 'taco': 32,\n",
       " 'to': 33,\n",
       " 'what': 34,\n",
       " \"'s\": 35,\n",
       " 'ability': 36,\n",
       " 'choose': 37,\n",
       " 'cook': 38,\n",
       " 'counts': 39,\n",
       " 'every': 40,\n",
       " 'little': 41,\n",
       " 'one': 42,\n",
       " 'thing': 43,\n",
       " 'which': 44}"
      ]
     },
     "execution_count": 7,
     "metadata": {},
     "output_type": "execute_result"
    }
   ],
   "source": [
    "# Create Dictionary of unique ID's for each word\n",
    "dictionary = gensim.corpora.Dictionary(word_tokens)\n",
    "dictionary.token2id"
   ]
  },
  {
   "cell_type": "code",
   "execution_count": 18,
   "metadata": {},
   "outputs": [
    {
     "data": {
      "text/plain": [
       "[[(4, 1), (7, 2)],\n",
       " [(7, 1), (17, 1), (27, 1), (33, 1)],\n",
       " [(0, 1), (6, 1), (33, 1)],\n",
       " [(0, 1), (2, 1), (6, 1)]]"
      ]
     },
     "execution_count": 18,
     "metadata": {},
     "output_type": "execute_result"
    }
   ],
   "source": [
    "# Create a bag of words, an array that contatins the frequency of each word\n",
    "freq_corpus = [dictionary.doc2bow(word_tokens) for word_tokens in word_tokens]\n",
    "freq_corpus"
   ]
  },
  {
   "cell_type": "code",
   "execution_count": 37,
   "metadata": {},
   "outputs": [
    {
     "name": "stdout",
     "output_type": "stream",
     "text": [
      "[['of', 0.71], ['the', 0.71]]\n",
      "[['the', 0.32], ['with', 0.63], ['is', 0.63], ['to', 0.32]]\n",
      "[['are', 0.58], ['tacos', 0.58], ['to', 0.58]]\n",
      "[['are', 0.41], ['food', 0.82], ['tacos', 0.41]]\n"
     ]
    }
   ],
   "source": [
    "# Apply weights to each word based on how often the word appears in the text\n",
    "tf_idf = gensim.models.TfidfModel(freq_corpus)\n",
    "for doc in tf_idf[freq_corpus]:\n",
    "    print([[dictionary[id], np.around(freq, decimals=2)] for id, freq in doc])"
   ]
  },
  {
   "cell_type": "code",
   "execution_count": 12,
   "metadata": {},
   "outputs": [],
   "source": [
    "# Create Similarity measure object\n",
    "sims_1 = gensim.similarities.Similarity('tacos_similarity_index', tf_idf[freq_corpus], num_features=len(dictionary))"
   ]
  },
  {
   "cell_type": "code",
   "execution_count": 13,
   "metadata": {},
   "outputs": [
    {
     "data": {
      "text/plain": [
       "['I love the combination of the ingredients\\n',\n",
       " 'The added taste factor with salsa is to die for\\n',\n",
       " 'Tacos are super easy to make\\n',\n",
       " 'Tacos are top tier food\\n']"
      ]
     },
     "execution_count": 13,
     "metadata": {},
     "output_type": "execute_result"
    }
   ],
   "source": [
    "# Tokenize a second document\n",
    "sent_token_array_2 = []\n",
    "with open('../Articles/article-2.txt', 'r') as f:\n",
    "    sent_tokens = sent_tokenize(f.read())\n",
    "    for line in sent_tokens:\n",
    "        new_sent = re.sub(r'\\.$|[?!]','\\n', line)\n",
    "        new_sent = re.sub(r',','', new_sent)\n",
    "        sent_token_array_2.append(new_sent)\n",
    "sent_token_array_2"
   ]
  },
  {
   "cell_type": "code",
   "execution_count": 14,
   "metadata": {},
   "outputs": [
    {
     "data": {
      "text/plain": [
       "[['i', 'love', 'the', 'combination', 'of', 'the', 'ingredients'],\n",
       " ['the',\n",
       "  'added',\n",
       "  'taste',\n",
       "  'factor',\n",
       "  'with',\n",
       "  'salsa',\n",
       "  'is',\n",
       "  'to',\n",
       "  'die',\n",
       "  'for'],\n",
       " ['tacos', 'are', 'super', 'easy', 'to', 'make'],\n",
       " ['tacos', 'are', 'top', 'tier', 'food']]"
      ]
     },
     "execution_count": 14,
     "metadata": {},
     "output_type": "execute_result"
    }
   ],
   "source": [
    "# Convert sentence tokens into word tokens\n",
    "word_tokens = [[w.lower() for w in word_tokenize(text)] for text in sent_token_array_2]\n",
    "word_tokens"
   ]
  },
  {
   "cell_type": "code",
   "execution_count": 24,
   "metadata": {},
   "outputs": [
    {
     "data": {
      "text/plain": [
       "{'combination': 0,\n",
       " 'i': 1,\n",
       " 'ingredients': 2,\n",
       " 'love': 3,\n",
       " 'of': 4,\n",
       " 'the': 5,\n",
       " 'added': 6,\n",
       " 'die': 7,\n",
       " 'factor': 8,\n",
       " 'for': 9,\n",
       " 'is': 10,\n",
       " 'salsa': 11,\n",
       " 'taste': 12,\n",
       " 'to': 13,\n",
       " 'with': 14,\n",
       " 'are': 15,\n",
       " 'easy': 16,\n",
       " 'make': 17,\n",
       " 'super': 18,\n",
       " 'tacos': 19,\n",
       " 'food': 20,\n",
       " 'tier': 21,\n",
       " 'top': 22}"
      ]
     },
     "execution_count": 24,
     "metadata": {},
     "output_type": "execute_result"
    }
   ],
   "source": [
    "# Create unique ID dictionary for the second set of tokens\n",
    "dictionary_2 = gensim.corpora.Dictionary(word_tokens)\n",
    "dictionary_2.token2id"
   ]
  },
  {
   "cell_type": "code",
   "execution_count": 30,
   "metadata": {},
   "outputs": [
    {
     "data": {
      "text/plain": [
       "<gensim.models.VocabTransform at 0x28a74791d08>"
      ]
     },
     "execution_count": 30,
     "metadata": {},
     "output_type": "execute_result"
    }
   ],
   "source": [
    "# Merge the dictionaries\n",
    "dictionary.merge_with(dictionary_2)\n",
    "#dictionary.token2id"
   ]
  },
  {
   "cell_type": "code",
   "execution_count": 32,
   "metadata": {},
   "outputs": [
    {
     "data": {
      "text/plain": [
       "[[(4, 1), (7, 2), (45, 1), (46, 1), (47, 1), (48, 1)],\n",
       " [(7, 1),\n",
       "  (17, 1),\n",
       "  (27, 1),\n",
       "  (33, 1),\n",
       "  (49, 1),\n",
       "  (50, 1),\n",
       "  (51, 1),\n",
       "  (52, 1),\n",
       "  (53, 1),\n",
       "  (54, 1)],\n",
       " [(0, 1), (6, 1), (33, 1), (55, 1), (56, 1), (57, 1)],\n",
       " [(0, 1), (2, 1), (6, 1), (58, 1), (59, 1)]]"
      ]
     },
     "execution_count": 32,
     "metadata": {},
     "output_type": "execute_result"
    }
   ],
   "source": [
    "# Create second set of frequency id\n",
    "query_doc_bow = [dictionary.doc2bow(word_tokens) for word_tokens in word_tokens]\n",
    "query_doc_bow"
   ]
  },
  {
   "cell_type": "code",
   "execution_count": 33,
   "metadata": {},
   "outputs": [
    {
     "data": {
      "text/plain": [
       "<gensim.interfaces.TransformedCorpus at 0x28a7478cf88>"
      ]
     },
     "execution_count": 33,
     "metadata": {},
     "output_type": "execute_result"
    }
   ],
   "source": [
    "# perform a similarity query against the corpus\n",
    "query_doc_tf_idf = tf_idf[query_doc_bow]\n",
    "query_doc_tf_idf"
   ]
  },
  {
   "cell_type": "code",
   "execution_count": 34,
   "metadata": {},
   "outputs": [
    {
     "data": {
      "text/plain": [
       "array([[0.6673406 , 0.        , 0.01820851, 0.04607699],\n",
       "       [0.01200717, 0.08186899, 0.37647063, 0.13665368],\n",
       "       [0.31770113, 0.01540551, 0.15963912, 0.12734467],\n",
       "       [0.4950611 , 0.0122559 , 0.00689628, 0.        ]], dtype=float32)"
      ]
     },
     "execution_count": 34,
     "metadata": {},
     "output_type": "execute_result"
    }
   ],
   "source": [
    "sims_1[query_doc_tf_idf]"
   ]
  },
  {
   "cell_type": "code",
   "execution_count": null,
   "metadata": {},
   "outputs": [],
   "source": []
  }
 ],
 "metadata": {
  "kernelspec": {
   "display_name": "Python 3",
   "language": "python",
   "name": "python3"
  },
  "language_info": {
   "codemirror_mode": {
    "name": "ipython",
    "version": 3
   },
   "file_extension": ".py",
   "mimetype": "text/x-python",
   "name": "python",
   "nbconvert_exporter": "python",
   "pygments_lexer": "ipython3",
   "version": "3.7.7"
  }
 },
 "nbformat": 4,
 "nbformat_minor": 5
}
