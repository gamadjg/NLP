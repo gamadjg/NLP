{
 "cells": [
  {
   "cell_type": "code",
   "execution_count": 7,
   "metadata": {},
   "outputs": [],
   "source": [
    "import nltk\n",
    "import numpy as np\n",
    "import gensim\n",
    "from nltk.tokenize import word_tokenize, sent_tokenize"
   ]
  },
  {
   "cell_type": "code",
   "execution_count": 8,
   "metadata": {},
   "outputs": [],
   "source": [
    "# Open the txt file, read contents, tokenize each sentence, store each token in an array\n",
    "sent_token_array = []\n",
    "with open('../Articles/article-1.txt', 'r') as f:\n",
    "    sent_tokens = sent_tokenize(f.read())\n",
    "    for line in sent_tokens:\n",
    "        sent_token_array.append(line)"
   ]
  },
  {
   "cell_type": "code",
   "execution_count": 9,
   "metadata": {},
   "outputs": [
    {
     "data": {
      "text/plain": [
       "['Tacos are some of the best forms of food.',\n",
       " 'They are simple, meat wrapped in a tortilla, with some toppings on it.',\n",
       " 'To me it comes down to fundamentals, because the taco is simple it forces cooks to really know what they are doing with no frills.',\n",
       " \"One's ability to cook the tortilla, the meat, which toppings to choose, every little thing counts.\"]"
      ]
     },
     "execution_count": 9,
     "metadata": {},
     "output_type": "execute_result"
    }
   ],
   "source": [
    "sent_token_array"
   ]
  },
  {
   "cell_type": "code",
   "execution_count": 10,
   "metadata": {},
   "outputs": [],
   "source": [
    "# Convert the sentence tokens into word tokens\n",
    "word_tokens = [[w.lower() for w in word_tokenize(text)] for text in sent_token_array]"
   ]
  },
  {
   "cell_type": "code",
   "execution_count": 11,
   "metadata": {},
   "outputs": [
    {
     "data": {
      "text/plain": [
       "{'.': 0,\n",
       " 'are': 1,\n",
       " 'best': 2,\n",
       " 'food': 3,\n",
       " 'forms': 4,\n",
       " 'of': 5,\n",
       " 'some': 6,\n",
       " 'tacos': 7,\n",
       " 'the': 8,\n",
       " ',': 9,\n",
       " 'a': 10,\n",
       " 'in': 11,\n",
       " 'it': 12,\n",
       " 'meat': 13,\n",
       " 'on': 14,\n",
       " 'simple': 15,\n",
       " 'they': 16,\n",
       " 'toppings': 17,\n",
       " 'tortilla': 18,\n",
       " 'with': 19,\n",
       " 'wrapped': 20,\n",
       " 'because': 21,\n",
       " 'comes': 22,\n",
       " 'cooks': 23,\n",
       " 'doing': 24,\n",
       " 'down': 25,\n",
       " 'forces': 26,\n",
       " 'frills': 27,\n",
       " 'fundamentals': 28,\n",
       " 'is': 29,\n",
       " 'know': 30,\n",
       " 'me': 31,\n",
       " 'no': 32,\n",
       " 'really': 33,\n",
       " 'taco': 34,\n",
       " 'to': 35,\n",
       " 'what': 36,\n",
       " \"'s\": 37,\n",
       " 'ability': 38,\n",
       " 'choose': 39,\n",
       " 'cook': 40,\n",
       " 'counts': 41,\n",
       " 'every': 42,\n",
       " 'little': 43,\n",
       " 'one': 44,\n",
       " 'thing': 45,\n",
       " 'which': 46}"
      ]
     },
     "execution_count": 11,
     "metadata": {},
     "output_type": "execute_result"
    }
   ],
   "source": [
    "# Create Dictionary of unique ID's for each word\n",
    "dictionary = gensim.corpora.Dictionary(word_tokens)\n",
    "dictionary.token2id"
   ]
  },
  {
   "cell_type": "code",
   "execution_count": 20,
   "metadata": {},
   "outputs": [
    {
     "data": {
      "text/plain": [
       "[[(0, 1), (5, 1), (8, 2)],\n",
       " [(0, 1), (8, 1), (19, 1), (29, 1), (35, 1)],\n",
       " [(0, 1), (1, 1), (7, 1), (35, 1)],\n",
       " [(0, 1), (1, 1), (3, 1), (7, 1)]]"
      ]
     },
     "execution_count": 20,
     "metadata": {},
     "output_type": "execute_result"
    }
   ],
   "source": [
    "# Create a bag of words, an array that contatins the frequency of each word\n",
    "freq_corpus = [dictionary.doc2bow(word_tokens) for word_tokens in word_tokens]\n",
    "freq_corpus"
   ]
  },
  {
   "cell_type": "code",
   "execution_count": 13,
   "metadata": {},
   "outputs": [],
   "source": [
    "# Apply weights to each word based on how often the word appears in the text\n",
    "tf_idf = gensim.models.TfidfModel(freq_corpus)"
   ]
  },
  {
   "cell_type": "code",
   "execution_count": 14,
   "metadata": {},
   "outputs": [],
   "source": [
    "# Create Similarity measure object\n",
    "sims_0 = gensim.similarities.Similarity('tacos_similarity_index', tf_idf[freq_corpus], num_features=len(dictionary))"
   ]
  },
  {
   "cell_type": "code",
   "execution_count": 15,
   "metadata": {},
   "outputs": [],
   "source": [
    "# Tokenize a second document\n",
    "sent_token_array_2 = []\n",
    "with open('../Articles/article-2.txt', 'r') as f:\n",
    "    sent_tokens = sent_tokenize(f.read())\n",
    "    for line in sent_tokens:\n",
    "        sent_token_array_2.append(line)"
   ]
  },
  {
   "cell_type": "code",
   "execution_count": 16,
   "metadata": {},
   "outputs": [
    {
     "data": {
      "text/plain": [
       "[['i', 'love', 'the', 'combination', 'of', 'the', 'ingredients', '.'],\n",
       " ['the',\n",
       "  'added',\n",
       "  'taste',\n",
       "  'factor',\n",
       "  'with',\n",
       "  'salsa',\n",
       "  'is',\n",
       "  'to',\n",
       "  'die',\n",
       "  'for',\n",
       "  '.'],\n",
       " ['tacos', 'are', 'super', 'easy', 'to', 'make', '.'],\n",
       " ['tacos', 'are', 'top', 'tier', 'food', '.']]"
      ]
     },
     "execution_count": 16,
     "metadata": {},
     "output_type": "execute_result"
    }
   ],
   "source": [
    "# Convert sentence tokens into word tokens\n",
    "word_tokens = [[w.lower() for w in word_tokenize(text)] for text in sent_token_array_2]\n",
    "word_tokens"
   ]
  },
  {
   "cell_type": "code",
   "execution_count": 17,
   "metadata": {},
   "outputs": [
    {
     "data": {
      "text/plain": [
       "[[(0, 1), (5, 1), (8, 2)],\n",
       " [(0, 1), (8, 1), (19, 1), (29, 1), (35, 1)],\n",
       " [(0, 1), (1, 1), (7, 1), (35, 1)],\n",
       " [(0, 1), (1, 1), (3, 1), (7, 1)]]"
      ]
     },
     "execution_count": 17,
     "metadata": {},
     "output_type": "execute_result"
    }
   ],
   "source": [
    "query_doc_bow = [dictionary.doc2bow(word_tokens) for word_tokens in word_tokens]\n",
    "query_doc_bow"
   ]
  },
  {
   "cell_type": "code",
   "execution_count": 18,
   "metadata": {},
   "outputs": [
    {
     "data": {
      "text/plain": [
       "<gensim.interfaces.TransformedCorpus at 0x226fe92c888>"
      ]
     },
     "execution_count": 18,
     "metadata": {},
     "output_type": "execute_result"
    }
   ],
   "source": [
    "# perform a similarity query against the corpus\n",
    "query_doc_tf_idf = tf_idf[query_doc_bow]\n",
    "query_doc_tf_idf"
   ]
  },
  {
   "cell_type": "code",
   "execution_count": 19,
   "metadata": {},
   "outputs": [
    {
     "data": {
      "text/plain": [
       "array([[0.6673406 , 0.        , 0.01818801, 0.04534583],\n",
       "       [0.01200717, 0.08072653, 0.37604663, 0.13448519],\n",
       "       [0.31770113, 0.01519053, 0.15945932, 0.12532389],\n",
       "       [0.4950611 , 0.01208487, 0.00688851, 0.        ]], dtype=float32)"
      ]
     },
     "execution_count": 19,
     "metadata": {},
     "output_type": "execute_result"
    }
   ],
   "source": [
    "sims_0[query_doc_tf_idf]"
   ]
  },
  {
   "cell_type": "code",
   "execution_count": null,
   "metadata": {},
   "outputs": [],
   "source": []
  }
 ],
 "metadata": {
  "kernelspec": {
   "display_name": "Python 3",
   "language": "python",
   "name": "python3"
  },
  "language_info": {
   "codemirror_mode": {
    "name": "ipython",
    "version": 3
   },
   "file_extension": ".py",
   "mimetype": "text/x-python",
   "name": "python",
   "nbconvert_exporter": "python",
   "pygments_lexer": "ipython3",
   "version": "3.7.7"
  }
 },
 "nbformat": 4,
 "nbformat_minor": 5
}
