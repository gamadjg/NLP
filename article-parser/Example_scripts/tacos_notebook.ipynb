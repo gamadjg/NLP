{
 "cells": [
  {
   "cell_type": "code",
   "execution_count": 1,
   "id": "necessary-boutique",
   "metadata": {},
   "outputs": [],
   "source": [
    "import nltk\n",
    "import numpy as np\n",
    "import gensim\n",
    "from nltk.tokenize import word_tokenize, sent_tokenize\n",
    "\n",
    "sent_token_array = []\n",
    "sent_token_array_2 = []"
   ]
  },
  {
   "cell_type": "code",
   "execution_count": 2,
   "id": "composite-prevention",
   "metadata": {},
   "outputs": [],
   "source": [
    "# Open the txt file, read contents, tokenize each sentence, store each token in an array\n",
    "with open('../Articles/article-1.txt', 'r') as f:\n",
    "    sent_tokens = sent_tokenize(f.read())\n",
    "    for line in sent_tokens:\n",
    "        sent_token_array.append(line)"
   ]
  },
  {
   "cell_type": "code",
   "execution_count": 3,
   "id": "starting-sleep",
   "metadata": {},
   "outputs": [
    {
     "data": {
      "text/plain": [
       "['Tacos are some of the best forms of food.',\n",
       " 'They are simple, meat wrapped in a tortilla, with some toppings on it.',\n",
       " 'To me it comes down to fundamentals, because the taco is simple it forces cooks to really know what they are doing with no frills.',\n",
       " \"One's ability to cook the tortilla, the meat, which toppings to choose, every little thing counts.\"]"
      ]
     },
     "execution_count": 3,
     "metadata": {},
     "output_type": "execute_result"
    }
   ],
   "source": [
    "sent_token_array"
   ]
  },
  {
   "cell_type": "code",
   "execution_count": 4,
   "id": "scheduled-finnish",
   "metadata": {},
   "outputs": [],
   "source": [
    "# Convert the sentence tokens into word tokens\n",
    "word_tokens = [[w.lower() for w in word_tokenize(text)] for text in sent_token_array]"
   ]
  },
  {
   "cell_type": "code",
   "execution_count": 5,
   "id": "capital-mambo",
   "metadata": {},
   "outputs": [],
   "source": [
    "# Create Dictionary of unique ID's for each word\n",
    "dictionary = gensim.corpora.Dictionary(word_tokens)\n",
    "#print('\\nID Dictionary:')\n",
    "#print(dictionary.token2id)"
   ]
  },
  {
   "cell_type": "code",
   "execution_count": 6,
   "id": "correct-champagne",
   "metadata": {},
   "outputs": [],
   "source": [
    "# Create a bag of words, an array that contatins the frequency of each word\n",
    "freq_corpus = [dictionary.doc2bow(word_tokens) for word_tokens in word_tokens]"
   ]
  },
  {
   "cell_type": "code",
   "execution_count": 7,
   "id": "african-sunglasses",
   "metadata": {},
   "outputs": [],
   "source": [
    "# Apply weights to each word based on how often the word appears in the text\n",
    "tf_idf = gensim.models.TfidfModel(freq_corpus)"
   ]
  },
  {
   "cell_type": "code",
   "execution_count": 8,
   "id": "weighted-technology",
   "metadata": {},
   "outputs": [],
   "source": [
    "# Create Similarity measure object\n",
    "sims = gensim.similarities.Similarity('tacos_similarity_index', tf_idf[freq_corpus], num_features=len(dictionary))"
   ]
  },
  {
   "cell_type": "code",
   "execution_count": 9,
   "id": "pleased-dragon",
   "metadata": {},
   "outputs": [],
   "source": [
    "# Tokenize a second document\n",
    "with open('../Articles/article-2.txt', 'r') as f:\n",
    "    sent_tokens = sent_tokenize(f.read())\n",
    "    for line in sent_tokens:\n",
    "        sent_token_array_2.append(line)"
   ]
  },
  {
   "cell_type": "code",
   "execution_count": 16,
   "id": "heard-messaging",
   "metadata": {},
   "outputs": [
    {
     "data": {
      "text/plain": [
       "[['i', 'love', 'the', 'combination', 'of', 'the', 'ingredients', '.'],\n",
       " ['the',\n",
       "  'added',\n",
       "  'taste',\n",
       "  'factor',\n",
       "  'with',\n",
       "  'salsa',\n",
       "  'is',\n",
       "  'to',\n",
       "  'die',\n",
       "  'for',\n",
       "  '.'],\n",
       " ['tacos', 'are', 'super', 'easy', 'to', 'make', '.'],\n",
       " ['tacos', 'are', 'top', 'tier', 'food', '.']]"
      ]
     },
     "execution_count": 16,
     "metadata": {},
     "output_type": "execute_result"
    }
   ],
   "source": [
    "# Convert sentence tokens into word tokens\n",
    "word_tokens = [[w.lower() for w in word_tokenize(text)] for text in sent_token_array_2]\n",
    "word_tokens"
   ]
  },
  {
   "cell_type": "code",
   "execution_count": 17,
   "id": "under-protocol",
   "metadata": {},
   "outputs": [
    {
     "data": {
      "text/plain": [
       "[[(0, 1), (5, 1), (8, 2)],\n",
       " [(0, 1), (8, 1), (19, 1), (29, 1), (35, 1)],\n",
       " [(0, 1), (1, 1), (7, 1), (35, 1)],\n",
       " [(0, 1), (1, 1), (3, 1), (7, 1)]]"
      ]
     },
     "execution_count": 17,
     "metadata": {},
     "output_type": "execute_result"
    }
   ],
   "source": [
    "query_doc_bow = [dictionary.doc2bow(word_tokens) for word_tokens in word_tokens]\n",
    "query_doc_bow"
   ]
  },
  {
   "cell_type": "code",
   "execution_count": 18,
   "id": "union-albert",
   "metadata": {},
   "outputs": [
    {
     "data": {
      "text/plain": [
       "<gensim.interfaces.TransformedCorpus at 0x1f7725f4bc8>"
      ]
     },
     "execution_count": 18,
     "metadata": {},
     "output_type": "execute_result"
    }
   ],
   "source": [
    "# perform a similarity query against the corpus\n",
    "query_doc_tf_idf = tf_idf[query_doc_bow]\n",
    "query_doc_tf_idf"
   ]
  },
  {
   "cell_type": "code",
   "execution_count": 19,
   "id": "separate-snowboard",
   "metadata": {},
   "outputs": [
    {
     "data": {
      "text/plain": [
       "array([[0.6673406 , 0.        , 0.01818801, 0.04534583],\n",
       "       [0.01200717, 0.08072653, 0.37604663, 0.13448519],\n",
       "       [0.31770113, 0.01519053, 0.15945932, 0.12532389],\n",
       "       [0.4950611 , 0.01208487, 0.00688851, 0.        ]], dtype=float32)"
      ]
     },
     "execution_count": 19,
     "metadata": {},
     "output_type": "execute_result"
    }
   ],
   "source": [
    "sims[query_doc_tf_idf]"
   ]
  },
  {
   "cell_type": "code",
   "execution_count": null,
   "id": "previous-growing",
   "metadata": {},
   "outputs": [],
   "source": []
  }
 ],
 "metadata": {
  "kernelspec": {
   "display_name": "Python 3",
   "language": "python",
   "name": "python3"
  },
  "language_info": {
   "codemirror_mode": {
    "name": "ipython",
    "version": 3
   },
   "file_extension": ".py",
   "mimetype": "text/x-python",
   "name": "python",
   "nbconvert_exporter": "python",
   "pygments_lexer": "ipython3",
   "version": "3.7.7"
  }
 },
 "nbformat": 4,
 "nbformat_minor": 5
}
